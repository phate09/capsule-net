{
 "cells": [
  {
   "cell_type": "markdown",
   "metadata": {},
   "source": [
    "# Check accuracy"
   ]
  },
  {
   "cell_type": "markdown",
   "metadata": {},
   "source": [
    "This code loads the 500th saved epoch and checks it against the test dataset"
   ]
  },
  {
   "cell_type": "code",
   "execution_count": 1,
   "metadata": {},
   "outputs": [],
   "source": [
    "import argparse\n",
    "from capsule_network import CapsuleNet, CapsuleLoss\n",
    "import torch"
   ]
  },
  {
   "cell_type": "markdown",
   "metadata": {},
   "source": [
    "We check if cuda is available first"
   ]
  },
  {
   "cell_type": "code",
   "execution_count": 1,
   "metadata": {},
   "outputs": [
    {
     "ename": "NameError",
     "evalue": "name 'torch' is not defined",
     "output_type": "error",
     "traceback": [
      "\u001b[0;31m---------------------------------------------------------------------------\u001b[0m",
      "\u001b[0;31mNameError\u001b[0m                                 Traceback (most recent call last)",
      "\u001b[0;32m<ipython-input-1-eabec44351ec>\u001b[0m in \u001b[0;36m<module>\u001b[0;34m\u001b[0m\n\u001b[0;32m----> 1\u001b[0;31m \u001b[0mprint\u001b[0m\u001b[0;34m(\u001b[0m\u001b[0mtorch\u001b[0m\u001b[0;34m.\u001b[0m\u001b[0mcuda\u001b[0m\u001b[0;34m.\u001b[0m\u001b[0mis_available\u001b[0m\u001b[0;34m(\u001b[0m\u001b[0;34m)\u001b[0m\u001b[0;34m)\u001b[0m\u001b[0;34m\u001b[0m\u001b[0;34m\u001b[0m\u001b[0m\n\u001b[0m\u001b[1;32m      2\u001b[0m \u001b[0mBATCH_SIZE\u001b[0m \u001b[0;34m=\u001b[0m \u001b[0;36m200\u001b[0m\u001b[0;34m\u001b[0m\u001b[0;34m\u001b[0m\u001b[0m\n\u001b[1;32m      3\u001b[0m \u001b[0mNUM_CLASSES\u001b[0m \u001b[0;34m=\u001b[0m \u001b[0;36m10\u001b[0m\u001b[0;34m\u001b[0m\u001b[0;34m\u001b[0m\u001b[0m\n",
      "\u001b[0;31mNameError\u001b[0m: name 'torch' is not defined"
     ]
    }
   ],
   "source": [
    "print(torch.cuda.is_available())\n",
    "BATCH_SIZE = 200\n",
    "NUM_CLASSES = 10"
   ]
  },
  {
   "cell_type": "code",
   "execution_count": 4,
   "metadata": {},
   "outputs": [
    {
     "name": "stdout",
     "output_type": "stream",
     "text": [
      "start\n",
      "capsulenet\n",
      "The accuracy is 100.0%\n",
      "The accuracy is 99.5%\n",
      "The accuracy is 99.5%\n",
      "The accuracy is 99.5%\n",
      "The accuracy is 99.5%\n",
      "The accuracy is 99.0%\n",
      "The accuracy is 98.0%\n",
      "The accuracy is 100.0%\n",
      "The accuracy is 99.5%\n",
      "The accuracy is 99.0%\n",
      "The accuracy is 98.5%\n",
      "The accuracy is 99.5%\n",
      "The accuracy is 98.5%\n",
      "The accuracy is 99.5%\n",
      "The accuracy is 99.0%\n",
      "The accuracy is 99.5%\n",
      "The accuracy is 99.5%\n",
      "The accuracy is 99.0%\n",
      "The accuracy is 99.5%\n",
      "The accuracy is 100.0%\n",
      "The accuracy is 99.5%\n",
      "The accuracy is 100.0%\n",
      "The accuracy is 99.0%\n",
      "The accuracy is 99.0%\n",
      "The accuracy is 99.0%\n",
      "The accuracy is 100.0%\n",
      "The accuracy is 100.0%\n",
      "The accuracy is 100.0%\n",
      "The accuracy is 99.5%\n",
      "The accuracy is 99.5%\n",
      "The accuracy is 100.0%\n",
      "The accuracy is 100.0%\n",
      "The accuracy is 99.0%\n",
      "The accuracy is 99.5%\n",
      "The accuracy is 100.0%\n",
      "The accuracy is 100.0%\n",
      "The accuracy is 100.0%\n",
      "The accuracy is 100.0%\n",
      "The accuracy is 100.0%\n",
      "The accuracy is 100.0%\n",
      "The accuracy is 100.0%\n",
      "The accuracy is 99.5%\n",
      "The accuracy is 99.0%\n",
      "The accuracy is 100.0%\n",
      "The accuracy is 100.0%\n",
      "The accuracy is 100.0%\n",
      "The accuracy is 100.0%\n",
      "The accuracy is 100.0%\n",
      "The accuracy is 99.5%\n",
      "The accuracy is 100.0%\n",
      "Total accuracy is 0.9955999999999997\n"
     ]
    }
   ],
   "source": [
    "print(\"start\")\n",
    "from torch.autograd import Variable\n",
    "from torch.optim import Adam\n",
    "from torchnet.engine import Engine\n",
    "from torchnet.logger import VisdomPlotLogger, VisdomLogger\n",
    "from torchvision.utils import make_grid\n",
    "from torchvision.datasets.mnist import MNIST\n",
    "from tqdm import tqdm\n",
    "import torchnet as tnt\n",
    "print(\"capsulenet\")\n",
    "model = CapsuleNet()\n",
    "model.load_state_dict(torch.load('epochs/epoch_500.pt'))\n",
    "model.cuda()\n",
    "def get_iterator(mode):\n",
    "    dataset = MNIST(root='./data', download=True, train=mode)\n",
    "    data = getattr(dataset, 'train_data' if mode else 'test_data')\n",
    "    labels = getattr(dataset, 'train_labels' if mode else 'test_labels')\n",
    "    tensor_dataset = tnt.dataset.TensorDataset([data, labels])\n",
    "\n",
    "    return tensor_dataset.parallel(batch_size=BATCH_SIZE, num_workers=4, shuffle=mode)\n",
    "total_accuracy=0\n",
    "n_batches = 0\n",
    "for i_batch, sample_batched in enumerate(get_iterator(False)): #false = test mode\n",
    "    data, labels = sample_batched\n",
    "    ground_truth = (data.unsqueeze(1).float() / 255.0)\n",
    "    labels = torch.LongTensor(labels)\n",
    "    labels = torch.eye(NUM_CLASSES).index_select(dim=0, index=labels)\n",
    "    ground_truth = Variable(ground_truth).cuda()\n",
    "    labels = Variable(labels).cuda()\n",
    "    classes, reconstructions = model(ground_truth)\n",
    "    accuracy = (classes.max(dim=1)[1]==labels.max(dim=1)[1]).sum().item()/len(sample_batched[0])\n",
    "    total_accuracy = total_accuracy+accuracy\n",
    "    n_batches=n_batches+1\n",
    "    # loss = capsule_loss(ground_truth, labels, classes, reconstructions)\n",
    "    print(f'The accuracy is {accuracy*100}%')\n",
    "print(f'Total accuracy is {total_accuracy/n_batches}')"
   ]
  },
  {
   "cell_type": "code",
   "execution_count": null,
   "metadata": {},
   "outputs": [],
   "source": []
  }
 ],
 "metadata": {
  "kernelspec": {
   "display_name": "Python 3",
   "language": "python",
   "name": "python3"
  },
  "language_info": {
   "codemirror_mode": {
    "name": "ipython",
    "version": 3
   },
   "file_extension": ".py",
   "mimetype": "text/x-python",
   "name": "python",
   "nbconvert_exporter": "python",
   "pygments_lexer": "ipython3",
   "version": "3.7.1"
  }
 },
 "nbformat": 4,
 "nbformat_minor": 2
}
